{
  "cells": [
    {
      "cell_type": "markdown",
      "metadata": {
        "id": "HKcSC285nmT9"
      },
      "source": [
        "# Money Change:"
      ]
    },
    {
      "cell_type": "code",
      "execution_count": null,
      "metadata": {
        "colab": {
          "background_save": true
        },
        "id": "uxC-SHgvnsik"
      },
      "outputs": [],
      "source": [
        "# Money Change code:\n",
        "\n",
        "def get_change(money: int) -> int:\n",
        "\n",
        "    tens = money // 10\n",
        "    fives = (money % 10) // 5\n",
        "    ones = (money % 10 % 5)\n",
        "\n",
        "    return tens + fives + ones\n",
        "\n",
        "if __name__ == '__main__':\n",
        "\n",
        "  money_input = int(input())\n",
        "  print(get_change(money_input))"
      ]
    },
    {
      "cell_type": "markdown",
      "metadata": {
        "id": "FLe6QevinwSY"
      },
      "source": [
        "# Maximum Value of the Loot\n"
      ]
    },
    {
      "cell_type": "code",
      "execution_count": null,
      "metadata": {
        "colab": {
          "background_save": true
        },
        "id": "7If7-T5gn5T_"
      },
      "outputs": [],
      "source": [
        "# Maximum Value of the Loot code:\n",
        "import sys\n",
        "\n",
        "def get_optimal_value(capacity, weights, values):\n",
        "    value = 0.\n",
        "    items = sorted(zip(values, weights), key=lambda x: x[0]/x[1], reverse=True)\n",
        "\n",
        "    for i in items:\n",
        "        if(capacity == 0):\n",
        "            return value\n",
        "\n",
        "        maxWeight = min(capacity, i[1])\n",
        "        value += maxWeight * (i[0]/i[1])\n",
        "        capacity -= maxWeight\n",
        "\n",
        "    return value\n",
        "\n",
        "if __name__ == \"__main__\":\n",
        "    data = list(map(int, sys.stdin.read().split()))\n",
        "    n, capacity = data[0:2]\n",
        "    values = data[2:(2 * n + 2):2]\n",
        "    weights = data[3:(2 * n + 2):2]\n",
        "\n",
        "    opt_value = get_optimal_value(capacity, weights, values)\n",
        "\n",
        "    print(\"{:.10f}\".format(opt_value))\n"
      ]
    },
    {
      "cell_type": "markdown",
      "metadata": {
        "id": "KkrJdqEVn6-W"
      },
      "source": [
        "# Car Fueling"
      ]
    },
    {
      "cell_type": "code",
      "execution_count": null,
      "metadata": {
        "id": "YmyS7afgn_f2"
      },
      "outputs": [],
      "source": [
        "# Car Fueling code:\n",
        "import sys\n",
        "\n",
        "def compute_min_refills(distance, tank, stops):\n",
        "    refill = 0\n",
        "    curr_refill = 0\n",
        "    limit = tank \n",
        "    n = len(stops)\n",
        "\n",
        "    while limit < distance:\n",
        "        if curr_refill >= n or stops[curr_refill] > limit:\n",
        "            return -1\n",
        "        \n",
        "        while curr_refill < n-1 and stops[curr_refill+1] <= limit:\n",
        "            curr_refill += 1\n",
        "        \n",
        "\n",
        "        refill += 1\n",
        "        limit = stops[curr_refill] + tank\n",
        "        curr_refill += 1\n",
        "    return refill\n",
        "            \n",
        "\n",
        "if __name__ == '__main__':\n",
        "    d, m, _, *stops = map(int, sys.stdin.read().split())\n",
        "    print(compute_min_refills(d, m, stops))"
      ]
    },
    {
      "cell_type": "markdown",
      "metadata": {
        "id": "1vD8Jde-oBKN"
      },
      "source": [
        "# Summit Screenshots:"
      ]
    },
    {
      "cell_type": "markdown",
      "metadata": {
        "id": "kRjTyfQGoHnc"
      },
      "source": [
        "## jcvillotab:\n",
        "\n",
        "![Screenshot](https://pomf2.lain.la/f/cgm8stvy.png)"
      ]
    },
    {
      "cell_type": "markdown",
      "metadata": {
        "id": "cZR6UcvRoSWt"
      },
      "source": [
        "## Andres:\n",
        "\n",
        "![Screenshot](https://files.catbox.moe/w8je8n.png)"
      ]
    },
    {
      "cell_type": "markdown",
      "metadata": {
        "id": "sW_vBE5BoSwO"
      },
      "source": [
        "## Gabriel:\n",
        "\n",
        "![Screenshot](https://drive.google.com/uc?id=1mk_DKsN_ofRYwGAra2OiUorKPDM3GZd0)"
      ]
    }
  ],
  "metadata": {
    "colab": {
      "name": "AlgorithmicToolboxWeek3Group3.ipynb",
      "provenance": [],
      "collapsed_sections": []
    },
    "kernelspec": {
      "display_name": "Python 3",
      "name": "python3"
    },
    "language_info": {
      "name": "python"
    }
  },
  "nbformat": 4,
  "nbformat_minor": 0
}