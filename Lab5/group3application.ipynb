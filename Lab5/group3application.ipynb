{
  "nbformat": 4,
  "nbformat_minor": 0,
  "metadata": {
    "colab": {
      "name": "group3application.ipynb",
      "provenance": []
    },
    "kernelspec": {
      "name": "python3",
      "display_name": "Python 3"
    },
    "language_info": {
      "name": "python"
    }
  },
  "cells": [
    {
      "cell_type": "markdown",
      "source": [
        "#LAB 5 Simple Flask web based application in Pythonanywhere\n",
        "Desarrollada por:\n",
        "\n",
        "\n",
        "*   Juan Camilo Villota Ballesteros\n",
        "*   Andres Felipe Balcero Ceron\n",
        "*   Gabriel Santana Paredes\n",
        "\n",
        "\n",
        "Enlace a la Aplicación: [ToDo App](http://jcvillotab.pythonanywhere.com/)"
      ],
      "metadata": {
        "id": "7UKM0BkhsAKJ"
      }
    }
  ]
}