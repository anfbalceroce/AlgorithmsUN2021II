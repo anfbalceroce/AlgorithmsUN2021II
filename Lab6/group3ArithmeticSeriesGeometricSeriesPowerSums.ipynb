{
  "nbformat": 4,
  "nbformat_minor": 0,
  "metadata": {
    "colab": {
      "name": "group3ArithmeticSeriesGeometricSeriesPowerSums.ipynb",
      "provenance": [],
      "collapsed_sections": []
    },
    "kernelspec": {
      "name": "python3",
      "display_name": "Python 3"
    }
  },
  "cells": [
    {
      "cell_type": "markdown",
      "metadata": {
        "id": "r4rXWI4gCN5B"
      },
      "source": [
        "# Arithmetic Series\n",
        "\n",
        "## Modified from Arithmetic Series -  [Wolfram MathWorld](https://mathworld.wolfram.com/ArithmeticSeries.html) - [wikipedia](https://en.wikipedia.org/wiki/Arithmetic_progression)\n",
        "\n",
        "\n",
        "An arithmetic sequence $\\{a_k\\}$ for $k=1, 2, ..., $ in which each term is computed from the previous one by adding (or subtracting) a constant $d$. \n",
        "\n",
        "\\begin{align*}\n",
        "a_1 & \\\\\n",
        "a_2 &\\ \\ =\\ \\ a_1 + d  \\\\\n",
        "a_3 &\\ \\ =\\ \\ a_2 + d \\ \\ =\\ \\ a_1 + 2d   \\\\\n",
        "a_4 &\\ \\ =\\ \\ a_3 + d \\ \\ =\\ \\ a_2 + 2d \\ \\ =\\ \\ a_1 + 3d  \\\\\n",
        "\\vdots\\\\\n",
        "a_k &\\ \\ =\\ \\ a_{(k-1)}+d \\ =\\  a_{(k-2)}+2d \\ =\\  \\ldots \\ =\\  \\ a_1+(k-1)d\n",
        "\\end{align*}\n",
        "\n",
        "Therefore, for $k>=1$,\n",
        "\n",
        "$$ a_k = a_1 + (k-1)d$$\n",
        "\n",
        "With $a_1$ and $d$ given.\n",
        "\n",
        "<br /> \n",
        "\n",
        "The sequence of the partial sum of the first $n$ terms of a sequence is called a series, in the case of an arithemetic sequence the series is called an arithmetic series.\n",
        "\n",
        "If  $a_1= 1$ and $d=1$ we have, the simplest arithmnetic sequence,  the natural numbers sequence $\\{a_k = k \\}$ for  $k=1, 2, ..., $  i.e. the seuqnece\n",
        "$$1, 2, ...,$$\n",
        "The  corresponding series is \n",
        "$$ \n",
        "S_n = 1 + 2+ \\ldots + (n-1)+ n = \\sum_{k=1}^n k\n",
        "$$\n",
        "can be calculated as a function of $n$.\n",
        "\n",
        "Assume that we allign one $S_{n-1}$ with a second  $S_{n-1}$ that have the terms adden reverse order and you add term to term, we have\n",
        "\\begin{array}{llclclclclc}\n",
        "  S_{n-1} &=& 1 &+& 2 &+& \\ldots &+& (n-2) &+& (n-1) \\\\\n",
        "  S_{n-1} &=& (n-1)  &+& (n-2)  &+& \\ldots   &+& 2   &+& 1 \\\\\n",
        "   \\hline \\\\\n",
        "   2S_{n-1} &=& n  &+& n  &+& \\ldots   &+& n   &+& n \\\\\n",
        "\\end{array}\n",
        "so\n",
        "$$  2S_{n-1} = (n-1)n $$\n",
        "then\n",
        "$$  S_{n-1} = \\frac{1}{2} (n-1)n$$\n",
        "therefore \n",
        "$$  S_{n} = \\frac{1}{2} n(n+1)$$\n",
        "\n",
        "\n",
        "\\begin{align*}\n",
        "S_n &= \\sum_{k=1}^n a_k\t\\\\\n",
        "    &= \\sum_{k=1}^n[a_1+(k-1)d]\t\t\\\\\n",
        "    &= na_1 + d \\sum_{k=1}^n(k-1)\t\\\\\n",
        "    &= na_1 + d \\sum_{k=0}^{n-1} k\t\\\\\n",
        "    &= na_1 + d \\sum_{k=1}^{n-1} k\t\\\\\n",
        "    &= na_1 +  \\frac{1}{2} d(n-1)n\\\\\n",
        "\\end{align*}\n",
        "so \n",
        "$$ S_n =  \\frac{1}{2} n[2 a_1 +d(n-1)].$$\n",
        "\n",
        "Note, however, that\n",
        "$$a_1+a_n=a_1+[a_1+d(n-1)]=2a_1+d(n-1),$$ \t\n",
        "so\n",
        "$$S_n = \\frac{1}{2}n(a_1+a_n),$$\n",
        "\n",
        "\n",
        "or $n$ times the arithmetic mean of the first and last terms! This is the trick Gauss used as a schoolboy to solve the problem of summing the integers from $1$ to $100$ given as busy-work by his teacher. While his classmates toiled away doing the addition longhand, Gauss wrote a single number, the correct answer\n",
        "\n",
        "$$\\frac{1}{2}(100)(1+100)=50·101=5050$$ \t\n",
        "on his slate (Burton 1989, pp. 80-81; Hoffman 1998, p. 207). When the answers were examined, Gauss's proved to be the only correct one.\n",
        "\n",
        "<br /> \n",
        "\n",
        "If  the sequence starts at index $0$, $\\{a_k\\}$ for $ k=0, 1, 2, ..., $ we have\n",
        "\n",
        "\\begin{align*}\n",
        "a_0 & \\\\\n",
        "a_1 &\\ \\ =\\ \\ a_0 + d  \\\\\n",
        "a_2 &\\ \\ =\\ \\ a_1 + d \\ \\ =\\ \\ a_0 + 2d   \\\\\n",
        "a_3 &\\ \\ =\\ \\ a_2 + d \\ \\ =\\ \\ a_1 + 2d \\ \\ =\\ \\ a_0 + 3d  \\\\\n",
        "\\vdots\\\\\n",
        "a_k &\\ \\ =\\ \\ a_{(k-1)}+d \\ =\\  a_{(k-2)}+2d \\ =\\  \\ldots \\ = \\  \\ a_1+(k-1)d \\ \\ =\\ \\ a_0+kd\n",
        "\\end{align*}\n",
        "\n",
        "<br /> \n",
        "for given   $a_0$ and $d$.\n",
        "\n",
        "In this case the sum of the terms between $0$ and $n$ of  the arithemnetic sequence  is then given by\n",
        "\\begin{align*}\n",
        "S_n &= \\sum_{k=0}^{n} a_k\t\\\\\n",
        "    &= \\sum_{k=0}^{n}[a_0+kd]\t\t\\\\\n",
        "    &= (n+1) a_0 + d \\sum_{k=0}^{n} k\t\\\\\n",
        "    &= (n+1) a_0 + d \\sum_{k=1}^{} k\t\\\\\n",
        "    &=(n+1) a_0+  \\frac{1}{2} dn(n+1) \\\\\n",
        "\\end{align*}\n",
        "so \n",
        "$$ S_n =  \\frac{1}{2} (n+1)[2 a_0 + dn].$$\n",
        "<br /> \n",
        "$$ S_n =  \\frac{1}{2} (n+1)[a_0+ a_n].$$\n",
        "\n",
        "\n"
      ]
    },
    {
      "cell_type": "markdown",
      "metadata": {
        "id": "GfBh-QHRcods"
      },
      "source": [
        "### Code\n",
        "####  The simplest arithmetic sequence and series\n",
        "\n",
        "The simplest arithmnetic sequence is \n",
        "\n",
        "\n",
        "$$a_n = 1, 2, ...,$$"
      ]
    },
    {
      "cell_type": "markdown",
      "metadata": {
        "id": "n36eWqEXiktl"
      },
      "source": [
        "The following code plots the first $n = 15$ terms of the simplest arithmnetic sequence \n",
        "$$\\{a_n = n\\} \\text{ for } n =1,2,\\ldots  $$\n",
        "i.e\n",
        "$$\\{a_n = n\\} =1,2,\\ldots $$\n",
        "adn the corresponding terms of the simplest arithmnetic series \n",
        "$$  S_n = 1 + 2+ \\ldots + (n-1)+ n = \\sum_{k=1}^n k=  \\frac{1}{2} n(n+1)$$\n"
      ]
    },
    {
      "cell_type": "markdown",
      "metadata": {
        "id": "_VyGiunIZknK"
      },
      "source": [
        "Plot"
      ]
    },
    {
      "cell_type": "code",
      "metadata": {
        "colab": {
          "base_uri": "https://localhost:8080/",
          "height": 282
        },
        "id": "gx3Q4uo-ONCi",
        "outputId": "4b860d4e-449a-4d5a-bd19-78d91d8ba40f"
      },
      "source": [
        "import matplotlib.pyplot as plt\n",
        "\n",
        "n = 15\n",
        "S_n = 0\n",
        "Serie_S_n=[]\n",
        "Sequence_a_n =[]\n",
        "for i in range(1,n+1):\n",
        "  S_n = S_n + i\n",
        "  Serie_S_n.append(S_n)\n",
        "  Sequence_a_n.append(i)\n",
        " \n",
        "\n",
        "plt.plot(Serie_S_n, color='black',label='Serie_S_n')\n",
        "plt.plot(Sequence_a_n, color='red',label='Sequence_a_n')\n",
        "plt.legend()\n",
        "\n",
        "\n"
      ],
      "execution_count": null,
      "outputs": [
        {
          "output_type": "execute_result",
          "data": {
            "text/plain": [
              "<matplotlib.legend.Legend at 0x7f22a1143a50>"
            ]
          },
          "metadata": {},
          "execution_count": 1
        },
        {
          "output_type": "display_data",
          "data": {
            "image/png": "[encoded data removed]",
            "text/plain": [
              "<Figure size 432x288 with 1 Axes>"
            ]
          },
          "metadata": {
            "needs_background": "light"
          }
        }
      ]
    },
    {
      "cell_type": "code",
      "metadata": {
        "colab": {
          "base_uri": "https://localhost:8080/"
        },
        "id": "o2es6b4cysQk",
        "outputId": "1796d679-56c5-44e9-995b-2f2a53eeb4ee"
      },
      "source": [
        "Sequence_a_n"
      ],
      "execution_count": null,
      "outputs": [
        {
          "output_type": "execute_result",
          "data": {
            "text/plain": [
              "[1, 2, 3, 4, 5, 6, 7, 8, 9, 10, 11, 12, 13, 14, 15]"
            ]
          },
          "metadata": {},
          "execution_count": 2
        }
      ]
    },
    {
      "cell_type": "code",
      "metadata": {
        "colab": {
          "base_uri": "https://localhost:8080/"
        },
        "id": "T2VeBOBZ0ibg",
        "outputId": "7374e5af-2763-4291-ae78-c5fb6328f862"
      },
      "source": [
        "Serie_S_n"
      ],
      "execution_count": null,
      "outputs": [
        {
          "output_type": "execute_result",
          "data": {
            "text/plain": [
              "[1, 3, 6, 10, 15, 21, 28, 36, 45, 55, 66, 78, 91, 105, 120]"
            ]
          },
          "metadata": {},
          "execution_count": 3
        }
      ]
    },
    {
      "cell_type": "markdown",
      "metadata": {
        "id": "0ybfJdHxZGvW"
      },
      "source": [
        "The following code computes the  $n=10000000$  term of the airthmetic series\n",
        "$$  S_n = 1 + 2+ \\ldots + (n-1)+ n = \\sum_{k=1}^n =  \\frac{1}{2} n(n+1)$$"
      ]
    },
    {
      "cell_type": "code",
      "metadata": {
        "colab": {
          "base_uri": "https://localhost:8080/"
        },
        "id": "99xYHDQycnol",
        "outputId": "abc21e8c-5e93-40c1-edd2-634442e562db"
      },
      "source": [
        "n = 10000000\n",
        "S_n = 0\n",
        "for i in range(1,n+1):  # range(n+1) goes form 1 to n\n",
        "  S_n = S_n + i \n",
        "print(S_n)"
      ],
      "execution_count": null,
      "outputs": [
        {
          "output_type": "stream",
          "name": "stdout",
          "text": [
            "50000005000000\n"
          ]
        }
      ]
    },
    {
      "cell_type": "code",
      "metadata": {
        "colab": {
          "base_uri": "https://localhost:8080/"
        },
        "id": "RGCSuDGHeFwH",
        "outputId": "fe537c48-f8ed-4dc2-d3ba-05ab62ad2b51"
      },
      "source": [
        "(1/2)*n*(n+1)"
      ],
      "execution_count": null,
      "outputs": [
        {
          "output_type": "execute_result",
          "data": {
            "text/plain": [
              "50000005000000.0"
            ]
          },
          "metadata": {},
          "execution_count": 5
        }
      ]
    },
    {
      "cell_type": "markdown",
      "metadata": {
        "id": "bg8zxAhcecpk"
      },
      "source": [
        "The following code computes the $n=10000000$ term of the airthmetic series \n",
        "$$ S_n  = \\sum_{k=1}^n a_k$$\n",
        "\n",
        "<br /> \n",
        "for the airthmetic sequence $a_k = 10 + 3 (k-1) $ for $k=1,2,\\ldots$\n",
        "\n",
        "<br /> \n",
        "$$ 10,13,16,19,21,\\ldots$$\n"
      ]
    },
    {
      "cell_type": "markdown",
      "metadata": {
        "id": "hg3ixQ3bZiVh"
      },
      "source": [
        "Plot"
      ]
    },
    {
      "cell_type": "code",
      "metadata": {
        "colab": {
          "base_uri": "https://localhost:8080/"
        },
        "id": "w8FP1XqSgnie",
        "outputId": "e38eee93-1f0f-4540-f69c-7bb42e0d8448"
      },
      "source": [
        "n = 10000000\n",
        "a = 10\n",
        "d = 3\n",
        "S_n = 0\n",
        "for i in range(1,n+1):  # range(n+19 goes form 1 to n\n",
        "  a_n = a + d * (i-1) \n",
        "  S_n = S_n + a_n\n",
        "print(S_n)"
      ],
      "execution_count": null,
      "outputs": [
        {
          "output_type": "stream",
          "name": "stdout",
          "text": [
            "150000085000000\n"
          ]
        }
      ]
    },
    {
      "cell_type": "code",
      "metadata": {
        "colab": {
          "base_uri": "https://localhost:8080/"
        },
        "id": "g_38RfB_hgg2",
        "outputId": "c7460564-895c-4536-e651-254af08e7d1f"
      },
      "source": [
        "n*(2*a +d*(n-1))/2"
      ],
      "execution_count": null,
      "outputs": [
        {
          "output_type": "execute_result",
          "data": {
            "text/plain": [
              "150000085000000.0"
            ]
          },
          "metadata": {},
          "execution_count": 7
        }
      ]
    },
    {
      "cell_type": "code",
      "metadata": {
        "colab": {
          "base_uri": "https://localhost:8080/"
        },
        "id": "zS3qb_xE1u58",
        "outputId": "afec7fd0-d9cb-425f-deb0-8d5de9d19809"
      },
      "source": [
        "n*(a +a_n)/2"
      ],
      "execution_count": null,
      "outputs": [
        {
          "output_type": "execute_result",
          "data": {
            "text/plain": [
              "150000085000000.0"
            ]
          },
          "metadata": {},
          "execution_count": 8
        }
      ]
    },
    {
      "cell_type": "code",
      "metadata": {
        "colab": {
          "base_uri": "https://localhost:8080/",
          "height": 284
        },
        "id": "7qesKez70zub",
        "outputId": "18aeda4c-531a-4091-b8b1-1fbe9ae5d52c"
      },
      "source": [
        "import matplotlib.pyplot as plt\n",
        "\n",
        "n = 20\n",
        "a = 10\n",
        "d = 3\n",
        "S_n = 0\n",
        "Serie_S_n=[]\n",
        "Sequence_a_n =[]\n",
        "for i in range(1,n+1):  # range(n+19 goes form 1 to n\n",
        "  a_n = a + d * (i-1) \n",
        "  S_n = S_n + a_n\n",
        "  Serie_S_n.append(S_n)\n",
        "  Sequence_a_n.append(a_n)\n",
        "\n",
        "plt.plot(Serie_S_n, color='black',label='Serie_S_n')\n",
        "plt.plot(Sequence_a_n, color='red',label='Sequence_a_n')\n",
        "plt.legend()"
      ],
      "execution_count": null,
      "outputs": [
        {
          "output_type": "execute_result",
          "data": {
            "text/plain": [
              "<matplotlib.legend.Legend at 0x7f22a0babc50>"
            ]
          },
          "metadata": {},
          "execution_count": 9
        },
        {
          "output_type": "display_data",
          "data": {
            "image/png": "[encoded data removed]",
            "text/plain": [
              "<Figure size 432x288 with 1 Axes>"
            ]
          },
          "metadata": {
            "needs_background": "light"
          }
        }
      ]
    },
    {
      "cell_type": "markdown",
      "metadata": {
        "id": "r9qzONSlZq2q"
      },
      "source": [
        "## Your own example of arithmetic series "
      ]
    },
    {
      "cell_type": "markdown",
      "metadata": {
        "id": "mhXuxumP9Rs_"
      },
      "source": [
        "We can calculate the sum of the first $n$ odd numbers given this series:\n",
        "\n",
        "\\begin{equation*}\n",
        "  S_n = \\sum_{k = 1}^{n} \\ 2k - 1\n",
        "\\end{equation*}\n",
        "\n",
        "<br>\n",
        "\n",
        "There are many ways that we can calculate the result of the previous series, one of them being computing it raw:\n"
      ]
    },
    {
      "cell_type": "code",
      "metadata": {
        "id": "SrJ_dPxS0pwP",
        "colab": {
          "base_uri": "https://localhost:8080/"
        },
        "outputId": "e7031164-0816-413f-c560-f73311320f09"
      },
      "source": [
        "def odd_sum_v1(n: int) -> int:\n",
        "\n",
        "  def tailSum(k: int, accum: int = 0) -> int:\n",
        "\n",
        "    if k == n:\n",
        "      return accum + (2 * k - 1)\n",
        "    \n",
        "    else: \n",
        "      return tailSum(k + 1, accum + (2 * k - 1))\n",
        "\n",
        "  return tailSum(1) # k = 1\n",
        "\n",
        "# Printing the first 150 terms: \n",
        "print(f\"First 150 terms: {odd_sum_v1(150)}\")"
      ],
      "execution_count": null,
      "outputs": [
        {
          "output_type": "stream",
          "name": "stdout",
          "text": [
            "First 150 terms: 22500\n"
          ]
        }
      ]
    },
    {
      "cell_type": "markdown",
      "metadata": {
        "id": "91ietq7qiuvb"
      },
      "source": [
        "Another way of doing this, is solving the series using the arithmetic series equation:\n",
        "\n",
        "\\begin{align*}\n",
        "  S_n &= \\sum_{k = 1}^{n} \\ 2k - 1 \\\\[5pt]\n",
        "  S_n &= 2 \\ \\sum_{k = 1}^{n} \\ k \\ - \\sum_{k = 1}^{n} 1 \\\\[5pt]\n",
        "  S_n &= 2 \\cdot \\left[\\frac{n(n+1)}{2}\\right] - [n] \\\\[5pt]\n",
        "  S_n &= n(n+1) - n \\\\[5pt]\n",
        "  S_n &= n^2 + n - n \\\\[5pt]\n",
        "  S_n &= n^2 \n",
        "\\end{align*}\n",
        "\n",
        "<br>\n",
        "\n",
        "By doing this, the function complexity changes from $O(n)$ to $O(1)$.\n",
        "\n",
        "Now implementing the function is rather simple:"
      ]
    },
    {
      "cell_type": "code",
      "metadata": {
        "colab": {
          "base_uri": "https://localhost:8080/"
        },
        "id": "froXnfPekMsC",
        "outputId": "48460430-436f-48e2-e841-4b0584e2456e"
      },
      "source": [
        "def odd_sum_v2(n: int) -> int:\n",
        "  return n ** 2\n",
        "\n",
        "# Printing the first 150 terms: \n",
        "print(f\"First 150 terms: {odd_sum_v2(150)}\")"
      ],
      "execution_count": null,
      "outputs": [
        {
          "output_type": "stream",
          "name": "stdout",
          "text": [
            "First 150 terms: 22500\n"
          ]
        }
      ]
    },
    {
      "cell_type": "markdown",
      "metadata": {
        "id": "KiNrWvagkaER"
      },
      "source": [
        "Now we can plot the diferent iterations of the exercise and the graph of the first 10 terms sould look like something like this:"
      ]
    },
    {
      "cell_type": "code",
      "metadata": {
        "colab": {
          "base_uri": "https://localhost:8080/",
          "height": 282
        },
        "id": "1dKR0AFnk0kR",
        "outputId": "e46e13e5-5157-4910-f904-39e263861ba5"
      },
      "source": [
        "import matplotlib.pyplot as plt\n",
        "\n",
        "def add_to_arr(a_list: list, init: int, times: int, function) -> list:\n",
        "    if init == times:\n",
        "        return a_list + [function(init)]\n",
        "    else:\n",
        "        return add_to_arr(a_list + [function(init)], init + 1, times, function)\n",
        "\n",
        "# Series and Sequences\n",
        "Serie_S_n = add_to_arr([], 1, 10, odd_sum_v2)\n",
        "Sequence_a_n = add_to_arr([], 1, 10, lambda x: 2 * x - 1)\n",
        "\n",
        "plt.plot(Serie_S_n, color='black',label='Serie_S_n')\n",
        "plt.plot(Sequence_a_n, color='red',label='Sequence_a_n')\n",
        "plt.legend()"
      ],
      "execution_count": null,
      "outputs": [
        {
          "output_type": "execute_result",
          "data": {
            "text/plain": [
              "<matplotlib.legend.Legend at 0x7f84e01ebfd0>"
            ]
          },
          "metadata": {},
          "execution_count": 21
        },
        {
          "output_type": "display_data",
          "data": {
            "image/png": "[encoded data removed]",
            "text/plain": [
              "<Figure size 432x288 with 1 Axes>"
            ]
          },
          "metadata": {
            "needs_background": "light"
          }
        }
      ]
    },
    {
      "cell_type": "markdown",
      "metadata": {
        "id": "AKWJ1F7hac8T"
      },
      "source": [
        "# Geometric Series\n",
        "\n",
        "## Modified from Geometric Series -  [Wolfram MathWorld](https://mathworld.wolfram.com/GeometricSeries.html) - [wikipedia](https://en.wikipedia.org/wiki/Geometric_series)\n"
      ]
    },
    {
      "cell_type": "markdown",
      "metadata": {
        "id": "W5zx_-nR81GI"
      },
      "source": [
        "An geometric series is the sum of a sequence $\\{a_k\\}$ for $k=1, 2, ..., $ in which each term is computed from the previous one by adding (or subtracting) a constant $d$. \n",
        "\n",
        "\\begin{align*}\n",
        "a_0 &\\ \\ =\\ \\ r^0 \\ \\ =\\ \\ 1\\\\\n",
        "a_1 &\\ \\ =\\ \\ a_0 *  r \\ \\ =\\ \\  r\\\\\n",
        "a_2 &\\ \\ =\\ \\ a_1 * r\\ \\ =\\ \\ a_0 * r^2  \\ \\ =\\ \\ r^2 \\\\\n",
        "a_3 &\\ \\ =\\ \\ a_2 * r \\ \\ =\\ \\ a_0 * r^3 \\ \\ =\\ \\  r^3  \\\\\n",
        "a_4 &\\ \\ =\\ \\ a_3 * r\\ \\  =\\ \\ a_0 * r^4 \\ \\  =\\ \\ r^4  \\\\\n",
        "\\vdots\\\\\n",
        "a_k &\\ \\ =\\ \\ a_{(k-1)}* r \\ =\\   a_0 * r^k \\ \\  =\\ \\  r^k\n",
        "\\end{align*}\n",
        "\n",
        "The sum of the first $n$ terms  of  the geometric sequence (called an geometric serie)  is then given by\n",
        "$$\n",
        "\\begin{array}{ll}\n",
        "S_n &=  1 + r + r^2 + \\cdots + r^{n-1} +r^n \\\\\n",
        " &=  (1 + r + r^2 + \\cdots + r^{n-1} ) +r^n \\\\\n",
        " &= S_{n-1}  +r^n \n",
        "\\end{array}\n",
        "$$\n",
        "\n",
        "$$\n",
        "\\begin{array}{ll}\n",
        "S_n &=  1 + r + r^2 + \\cdots + r^{n-1} +r^n \\\\\n",
        " &=  1 + (r + r^2 + \\cdots + r^{n-1}  +r^n)  \\\\\n",
        " &=   1 + r (1 +  r  + r^2 + \\cdots + r^{n-1} )  \\\\\n",
        "  &=   1 + r   S_{n-1} \n",
        "\\end{array}\n",
        "$$\n",
        "\n",
        "Then\n",
        "$$\n",
        " S_{n-1}  +r^n =   1 + r   S_{n-1} \n",
        "$$\n",
        "\n",
        "Therefore\n",
        "$$\n",
        " S_{n-1} (1 -r)    =   1 - r^n \n",
        "$$\n",
        "\n",
        "$$\n",
        " S_{n-1}   =   \\frac{1 - r^n }{1 -r}\n",
        "$$\n",
        "\n",
        "$$\n",
        " S_{n}   =   \\frac{1 - r^{n+1} }{1 -r}  = \\frac{ r^{n+1} - 1}{r -1}\n",
        "$$\n"
      ]
    },
    {
      "cell_type": "markdown",
      "metadata": {
        "id": "CDUYfT8k8crr"
      },
      "source": [
        "## Nodes in Complete Binary Tree with $L=0,1,2,\\cdots , L-1$ levels \n",
        "\n",
        "![](https://raw.githubusercontent.com/gjhernandezp/algorithms/master/Lab7/ComBinTree.png)\n",
        "\n",
        "In a complete binary tree you have in ecah level $k =0,1,2,\\cdots $  $ 2^k $\n",
        "\n",
        "$$\n",
        "\\begin{array}{ll}\n",
        "\\text {Level } 0 \\rightarrow 2^0 = 1 \\text { node (root)} \\\\\n",
        "\\text {Level } 1 \\rightarrow 2^1 = 2 \\text { nodes} \\\\\n",
        "\\text {Level } 2 \\rightarrow 2^2 = 4 \\text { nodes} \\\\\n",
        "\\text {Level } 3 \\rightarrow 2^3 = 8 \\text { nodes} \\\\\n",
        "\\vdots\\\\\n",
        "\\text {Level } k \\rightarrow 2^k  \\text { nodes} \\\\\n",
        "\\end{array}\n",
        "$$\n",
        "\n",
        "nodes, with $l = 0,1,2, ... $ the level\n",
        "\n",
        "Total number of the complete tree with $L=0,1,2,\\cdots , L-1$ levels\n",
        "\n",
        "$$ \n",
        "2^0 + 2^1 + 2^2 + \\cdots +2^{L-1}  = 1 + 2 + 4 + \\cdots +2^{L-1} = \\sum_{k=0}^{L-1} 2^k = \\frac{ 2^{L} - 1}{2 -1} = 2^{L} - 1\n",
        "$$"
      ]
    },
    {
      "cell_type": "markdown",
      "metadata": {
        "id": "YiWlrhLZNMX9"
      },
      "source": [
        "### Code"
      ]
    },
    {
      "cell_type": "code",
      "metadata": {
        "id": "YvMkYU8UNOll",
        "colab": {
          "base_uri": "https://localhost:8080/",
          "height": 299
        },
        "outputId": "92ea8555-9434-401c-a709-3353ab2ab55f"
      },
      "source": [
        "import matplotlib.pyplot as plt\n",
        "\n",
        "L = 10\n",
        "sum = 0\n",
        "nodes = []\n",
        "level = []\n",
        "\n",
        "for k in range (L):\n",
        "  level.append(2**k)\n",
        "  sum += 2**k\n",
        "  nodes.append(sum)\n",
        "\n",
        "total = 2**L-1\n",
        "\n",
        "print(\"number of nodes: %d\"%total)\n",
        "plt.plot(nodes, color = 'red', label='Total Nodes')\n",
        "plt.plot(level, color = 'blue', label='Nodes in level')\n",
        "plt.axhline(y = total, color = 'green', label = 'total')\n",
        "plt.legend()"
      ],
      "execution_count": null,
      "outputs": [
        {
          "output_type": "stream",
          "name": "stdout",
          "text": [
            "number of nodes: 1023\n"
          ]
        },
        {
          "output_type": "execute_result",
          "data": {
            "text/plain": [
              "<matplotlib.legend.Legend at 0x7fd1c93c6250>"
            ]
          },
          "metadata": {},
          "execution_count": 1
        },
        {
          "output_type": "display_data",
          "data": {
            "image/png": "[encoded data removed]",
            "text/plain": [
              "<Figure size 432x288 with 1 Axes>"
            ]
          },
          "metadata": {
            "needs_background": "light"
          }
        }
      ]
    },
    {
      "cell_type": "markdown",
      "metadata": {
        "id": "Dd3RWDwJe2xD"
      },
      "source": [
        "## Zenon Arrow\n",
        "\n",
        "![](https://raw.githubusercontent.com/gjhernandezp/algorithms/master/Lab7/zeno-paradox-arrow.png)\n",
        "\n",
        "https://leseditionsdeschavonnes.com/2018/10/15/the-paradox-of-achilles-and-the-tortoise/\n",
        "\n",
        "\n",
        "\n",
        "$$ \n",
        "\\lim_{n\\rightarrow \\infty} \\left\\{\\left(\\frac{1}{2}\\right)^0 + \\left(\\frac{1}{2}\\right)^1 +\\left(\\frac{1}{2}\\right)^2 + \\cdots +\\left(\\frac{1}{2}\\right)^{n} \\right\\} = \\lim_{n\\rightarrow \\infty} \\left\\{ 1 +\\frac{1}{2} + \\frac{1}{4} + \\frac{1}{8} + \\cdots +\\frac{1}{2^{n}}\\right\\}  = \\lim_{n\\rightarrow \\infty} \\sum_{k=0}^{n} \\left(\\frac{1}{2}\\right)^k = \\lim_{n\\rightarrow \\infty} \\frac{ 1- \\left(\\frac{1}{2}\\right)^n  }{1 - \\left(\\frac{1}{2}\\right) } = \\frac{ 1}{1 - \\left(\\frac{1}{2}\\right)} = 2\n",
        "$$"
      ]
    },
    {
      "cell_type": "markdown",
      "metadata": {
        "id": "R-J4EekBNPkd"
      },
      "source": [
        "### Code"
      ]
    },
    {
      "cell_type": "code",
      "metadata": {
        "id": "8xdBovY3NEW_",
        "colab": {
          "base_uri": "https://localhost:8080/",
          "height": 299
        },
        "outputId": "eb03c0f1-ca33-4f0b-c77c-4130a09273eb"
      },
      "source": [
        "import matplotlib.pyplot as plt\n",
        "\n",
        "n = 10\n",
        "zenonSeries = []\n",
        "sum = 0\n",
        "\n",
        "for i in range(n+1):\n",
        "  sum += (1/2)**i\n",
        "  zenonSeries.append(sum)\n",
        "\n",
        "total = (1-((1/2)**(n+1)))/(1-(1/2))\n",
        "\n",
        "print(\"distance (n=10): %f\"%total)\n",
        "plt.plot(zenonSeries, color = 'blue', label = 'Zenon Arrow')\n",
        "plt.axhline(y = 2, color = 'red', label = '2')\n",
        "plt.legend()"
      ],
      "execution_count": null,
      "outputs": [
        {
          "output_type": "stream",
          "name": "stdout",
          "text": [
            "distance (n=10): 1.999023\n"
          ]
        },
        {
          "output_type": "execute_result",
          "data": {
            "text/plain": [
              "<matplotlib.legend.Legend at 0x7f230925a6d0>"
            ]
          },
          "metadata": {},
          "execution_count": 35
        },
        {
          "output_type": "display_data",
          "data": {
            "image/png": "[encoded data removed]",
            "text/plain": [
              "<Figure size 432x288 with 1 Axes>"
            ]
          },
          "metadata": {
            "needs_background": "light"
          }
        }
      ]
    },
    {
      "cell_type": "markdown",
      "metadata": {
        "id": "Q5ZH5D3SAnY8"
      },
      "source": [
        "## Example 1\n",
        "Using geometric series to represent repeating decimal:\n",
        "\\begin{align}\n",
        "\\frac{2}{3} = 0.666... = \\frac{6}{10} + \\frac{6}{100} + \\frac{6}{1000} + \\frac{6}{1000} + \\cdots = \\frac{6}{10}\\sum_{n=0}^{\\infty}\\left(\\frac{1}{10}\\right)^{n}\\\\ \n",
        "\\end{align}"
      ]
    },
    {
      "cell_type": "code",
      "metadata": {
        "colab": {
          "base_uri": "https://localhost:8080/",
          "height": 299
        },
        "id": "ijKtuQPYAqCH",
        "outputId": "6f752bfb-1591-4d2b-c3ec-be96a6b25343"
      },
      "source": [
        "import matplotlib.pyplot as plt\n",
        "\n",
        "n = 5\n",
        "sum = 0\n",
        "S_n = []\n",
        "fractions = []\n",
        "a = 6/10\n",
        "r = 1/10\n",
        "\n",
        "for i in range(n+1):\n",
        "  sum += a*r**i\n",
        "  S_n.append(sum)\n",
        "  fractions.append(a*r**i)\n",
        "\n",
        "total = a*(1-((r)**(n+1)))/(1-(r))\n",
        "\n",
        "print(\"value (n=5): %f\"%total)\n",
        "plt.plot(S_n, color='blue',label='S_n')\n",
        "#plt.plot(fractions, color='red',label='Fractions')\n",
        "plt.axhline(y = 2/3, color='black',label='2/3')\n",
        "plt.legend()"
      ],
      "execution_count": null,
      "outputs": [
        {
          "output_type": "stream",
          "name": "stdout",
          "text": [
            "value (n=5): 0.666666\n"
          ]
        },
        {
          "output_type": "execute_result",
          "data": {
            "text/plain": [
              "<matplotlib.legend.Legend at 0x7f2308fcfc90>"
            ]
          },
          "metadata": {},
          "execution_count": 39
        },
        {
          "output_type": "display_data",
          "data": {
            "image/png": "[encoded data removed]",
            "text/plain": [
              "<Figure size 432x288 with 1 Axes>"
            ]
          },
          "metadata": {
            "needs_background": "light"
          }
        }
      ]
    },
    {
      "cell_type": "markdown",
      "metadata": {
        "id": "U6wal_tTAqbL"
      },
      "source": [
        "## Example 2\n",
        "In certain videogame with certain characteristics: experience points and levels, starting at level 1 with 0 points, 80 points needed for level 2, points needed for next level are 1.104 times the needed for previous level, and max level 100. A geometric series can find the total experience needed to reach certain level (for example 100).\n",
        "\n",
        "\\begin{align}\n",
        "EXP = 80 \\sum_{n=0}^{98}1.104^{n} = 80 \\cdot \\frac{1-1.104^{98+1}}{1-1.104}\\\\ \n",
        "\\end{align}\n"
      ]
    },
    {
      "cell_type": "code",
      "metadata": {
        "colab": {
          "base_uri": "https://localhost:8080/",
          "height": 310
        },
        "id": "1NVWX8wiAr4W",
        "outputId": "20b1b8c1-43e8-483d-d5dd-5582c36386ae"
      },
      "source": [
        "import matplotlib.pyplot as plt\n",
        "\n",
        "n = 98 #level 2 > n=0\n",
        "EXP = 0\n",
        "exp_to_level = []\n",
        "exp_diff = []\n",
        "a = 80\n",
        "r = 1.104\n",
        "\n",
        "for i in range(n+1):\n",
        "  EXP += a*r**i\n",
        "  exp_to_level.append(EXP)\n",
        "  exp_diff.append(a*r**i)\n",
        "\n",
        "total = a*(1-((r)**(n+1)))/(1-(r))\n",
        "\n",
        "print(\"experience points to level 100: %f\"%total)\n",
        "\n",
        "plt.plot(exp_to_level, color='blue',label='Cumulative exp')\n",
        "plt.plot(exp_diff, color='red',label='difference between levels')\n",
        "plt.axhline(y = total, color='black',label='total')\n",
        "plt.legend()"
      ],
      "execution_count": null,
      "outputs": [
        {
          "output_type": "stream",
          "name": "stdout",
          "text": [
            "experience points to level 100: 13802911.747984\n"
          ]
        },
        {
          "output_type": "execute_result",
          "data": {
            "text/plain": [
              "<matplotlib.legend.Legend at 0x7f2308ea5c90>"
            ]
          },
          "metadata": {},
          "execution_count": 42
        },
        {
          "output_type": "display_data",
          "data": {
            "image/png": "[encoded data removed]",
            "text/plain": [
              "<Figure size 432x288 with 1 Axes>"
            ]
          },
          "metadata": {
            "needs_background": "light"
          }
        }
      ]
    },
    {
      "cell_type": "markdown",
      "metadata": {
        "id": "dh2ntBeoNQlN"
      },
      "source": [
        "# Power Sums Power Sums - [Wolfram MathWorld](https://mathworld.wolfram.com/PowerSum.html) - [wikipedia](https://en.wikipedia.org/wiki/Sums_of_powers) - [reserachgate](https://www.researchgate.net/publication/331933608_The_Powers_Sums_Bernoulli_Numbers_Bernoulli_Polynomials_Rethinked)\n",
        "\n"
      ]
    },
    {
      "cell_type": "markdown",
      "metadata": {
        "id": "w_tk-zvYgd1C"
      },
      "source": [
        "There are two kinds of power sums commonly considered. The first is the sum of pth powers of a set of n variables x_k,\n",
        "\n",
        "$$ \n",
        "S_p(x_1, ... ,x_2)  =  \\sum_{k=1}^n {x_k}^ p\n",
        "$$\n",
        "and the second is the special case $x_k=k, i.e.,$\n",
        "$$ \n",
        "S_p(n)  =  \\sum_{k=1}^n k^ p\n",
        "$$\n",
        "\n",
        "General power sums arise commonly in statistics. For example, k-statistics are most commonly defined in terms of power sums. Power sums are related to symmetric polynomials by the Newton-Girard formulas.\n",
        "\n",
        "The sum of k times the kth power of x is given analytically by\n",
        "\n",
        "$$\n",
        "\\sum_{k=0}^n {k x}^ k = \\frac{ x- \\left({n}+{1}\\right)x^{n+1} +nx^{n+2}}{\\left({x}-{1}\\right)^2 }\n",
        "$$\n",
        "Other analytic sums include\n",
        "$$\n",
        "(\\sum_{k=0}^\\infty {x}^k)^ p = (1-x)^{-p}\\\\\n",
        " =\\frac{1}{\\left({p}-{1}\\right)! } \\sum_{n=0}^\\infty \\frac{\\left(n+p-1\\right)!}{n!}x^n \\\\\n",
        " =\\frac{1}{\\left({p}-{1}\\right)! } \\sum_{n=0}^\\infty (n+1)_{p-1}x^n \n",
        "$$\n",
        "or ${|x|<1}$, where $n_p$ is a Pochhammer symbol. The finite version has the elegant closed form\n",
        "\n",
        "$$\n",
        "(\\sum_{k=0}^n x^k)^ p = \\frac{1}{\\left({p}-{1}\\right)! } \\sum_{k=0}^{np} \\frac{\\left(n-|n-k|+p-1\\right)!}{\\left(n-|n-k|\\right)! }x^k \n",
        "$$\n",
        "\n",
        "for p=1 and 2. An additional sum is given by\n",
        "$$\n",
        "(\\sum_{n=0}^\\infty a_n x^n)^ 2 =  \\sum_{n=0}^\\infty {a_n}^2 x^{2n}+2 \\displaystyle\\sum^{\\infty}_{\\substack{n=1 \\\\ i+j=n \\\\ i<j}}a_i a_j x^n\n",
        "$$\n",
        "\n",
        "An analytic solution for a sum of powers of integers is\n",
        "$$\n",
        "S_p(n)  =\\sum^{n}_{k=1 }k^p\\\\\n",
        " = \\zeta\\;(-p) - \\zeta \\;(-p, 1+n)\\\\\n",
        " = H_n ^ {(-p)}\n",
        "$$\n",
        "\n",
        "where $\\zeta(z)$ is the Riemann zeta function, $\\zeta(z;a)$ is the Hurwitz zeta function, and $H_n^{(k)}$ is a generalized harmonic number. For the special case of $p$ a positive integer, Faulhaber's formula gives the sum explicitly as\n",
        "$$\n",
        "  S_p(n)  = \\frac {1}{p+1} \\sum^{p+1}_{k=1} (-1)^{\\delta \\;k\\; p} \\displaystyle{p+1 \\choose k} B_{p+1-k} \\; n^k \n",
        "$$\n",
        "\n",
        "where $\\delta_{kp}$ is the Kronecker delta, $\\displaystyle{n \\choose k}$ is a binomial coefficient, and $B_k$ is a Bernoulli number. It is also true that the coefficients of the terms in such an expansion sum to 1, as stated by Bernoulli (Boyer 1943).\n",
        "\n",
        "Bernoulli used the property of the figurate number triangle that\n",
        "\n",
        "$$\n",
        "\\sum^{n}_{i=0} a_{i\\;j} = \\frac{(n+1)a_{n\\;j}}{j+1}\n",
        "$$\n",
        "\n",
        "along with a form for $a_{nj}$ which he derived inductively to compute the sums up to n=10 (Boyer 1968, p. 85). For $p \\;\\varepsilon \\; Z>0$, the sum is given by\n",
        "$$\n",
        "\\sum^{n}_{k=1} k_{p} = \\frac{(B+n+1)^{[p+1]} - B^{p+1}} {p+1}\n",
        "$$\n",
        "where the notation $B^{[k]}$ means the quantity in question is raised to the appropriate power $k$, and all terms of the form $B^m$ are replaced with the corresponding Bernoulli numbers $B_m$. Written explicitly in terms of a sum of powers,\n",
        "\n",
        "$$\n",
        "\\sum^{n}_{k=1} k^{p} = n^p + \\sum^{p}_{k=0} \\frac{B_k \\; p!} {k!(p-k+1)!} n^{p-k+1} \\\\\n",
        "=\\sum^{p+1}_{k=1} \\frac {(-1)^{p-k+1} \\; B_{p-k+1} \\; p!} {k!(p-k+1)!} \\; n^k \\\\\n",
        "=\\sum^{p+1}_{k=1} b_{p \\; k} \\; n^k ,\n",
        "$$\n",
        "where\n",
        "$$\n",
        "b_{p \\; k}= \\frac{(-1)^{p-k+1} \\; B_{p-k+1} \\; p!} {k!(p-k+1)!}\n",
        "$$\n",
        "\n",
        "It is also true that the coefficients of the terms b_(pk) sum to 1,\n",
        " $$\n",
        " \\sum^{p+1}_{k=1} b_{p \\; k} = 1\n",
        " $$\n",
        "which Bernoulli stated without proof.\n",
        "\n",
        "A double series solution for $S_p(n)$ is given by\n",
        "$$ \n",
        "S_p(n)  =  \\sum_{i=1}^p  \\sum_{j=1}^{i-1} {-1}^j (i-j)^p {\\displaystyle{n+p-i+1 \\choose n-i}}\\displaystyle{p+1 \\choose j}\n",
        "$$"
      ]
    },
    {
      "cell_type": "markdown",
      "metadata": {
        "id": "L8rOT-a3dHb6"
      },
      "source": [
        "###Example 1"
      ]
    },
    {
      "cell_type": "markdown",
      "metadata": {
        "id": "aBFmk2wBemDi"
      },
      "source": [
        "\\begin{align}\n",
        "\\sum_{k=0}^{10}2k^{2} = \\frac{1}{3} n(n+1)(2n+1)\\\\ \n",
        "\\end{align}\n"
      ]
    },
    {
      "cell_type": "code",
      "metadata": {
        "id": "VfulMh5pgJWx",
        "colab": {
          "base_uri": "https://localhost:8080/",
          "height": 318
        },
        "outputId": "1be10cfa-3ac9-4089-c954-efd39fff6c04"
      },
      "source": [
        "import matplotlib.pyplot as plt\n",
        "\n",
        "S_n = 0\n",
        "Sn = []\n",
        "an = []\n",
        "\n",
        "for i in range(0, 11):\n",
        "    S_n += 2*(i**(2))\n",
        "    an.append(2*(i**(2)))\n",
        "    Sn.append(S_n)\n",
        "\n",
        "value = ((1/3)*i*(i+1)*(2*i+1))\n",
        "print(\"S_n: %f\"%S_n)\n",
        "print(\"S_n with formula : %f\"% value)\n",
        "plt.plot(Sn, color='blue',label='Serie Sn')\n",
        "plt.plot(an, color='red',label='Sequence an')\n",
        "plt.axhline(value,color='green', label='value with formula')\n",
        "plt.legend()"
      ],
      "execution_count": null,
      "outputs": [
        {
          "output_type": "stream",
          "name": "stdout",
          "text": [
            "S_n: 770.000000\n",
            "S_n with formula : 770.000000\n"
          ]
        },
        {
          "output_type": "execute_result",
          "data": {
            "text/plain": [
              "<matplotlib.legend.Legend at 0x7fd1bcb9ed90>"
            ]
          },
          "metadata": {},
          "execution_count": 5
        },
        {
          "output_type": "display_data",
          "data": {
            "image/png": "[encoded data removed]",
            "text/plain": [
              "<Figure size 432x288 with 1 Axes>"
            ]
          },
          "metadata": {
            "needs_background": "light"
          }
        }
      ]
    },
    {
      "cell_type": "markdown",
      "metadata": {
        "id": "yifkGy0Oelb3"
      },
      "source": [
        "###Example 2\n",
        "\\begin{align}\n",
        "\\sum_{n=0}^{12}4k^3 = n^2(n+1)^2\\\\ \n",
        "\\end{align}"
      ]
    },
    {
      "cell_type": "code",
      "metadata": {
        "id": "2PyxzzOZVIdl",
        "colab": {
          "base_uri": "https://localhost:8080/",
          "height": 316
        },
        "outputId": "de2a5bc3-cf77-4ebb-a8eb-7eda238d59c3"
      },
      "source": [
        "import math\n",
        "\n",
        "S_n = 0\n",
        "Sn = []\n",
        "an = []\n",
        "\n",
        "for i in range(0, 13):\n",
        "    S_n += (4*i**(3))\n",
        "    Sn.append(S_n)\n",
        "    an.append(4*i**(3))\n",
        "\n",
        "print(\"S_n: %f\"%S_n)\n",
        "value = ((i**2) *(i+1)**2)\n",
        "print(\"S_n with formula: %f\"%value)\n",
        "\n",
        "plt.plot(Sn, color='blue',label='Serie Sn')\n",
        "plt.plot(an, color='red',label='Sequence an')\n",
        "plt.axhline(value,color='green', label='value with formula')\n",
        "plt.legend()"
      ],
      "execution_count": null,
      "outputs": [
        {
          "output_type": "stream",
          "name": "stdout",
          "text": [
            "S_n: 24336.000000\n",
            "S_n with formula: 24336.000000\n"
          ]
        },
        {
          "output_type": "execute_result",
          "data": {
            "text/plain": [
              "<matplotlib.legend.Legend at 0x7fd1c0d1cd10>"
            ]
          },
          "metadata": {},
          "execution_count": 4
        },
        {
          "output_type": "display_data",
          "data": {
            "image/png": "[encoded data removed]",
            "text/plain": [
              "<Figure size 432x288 with 1 Axes>"
            ]
          },
          "metadata": {
            "needs_background": "light"
          }
        }
      ]
    }
  ]
}