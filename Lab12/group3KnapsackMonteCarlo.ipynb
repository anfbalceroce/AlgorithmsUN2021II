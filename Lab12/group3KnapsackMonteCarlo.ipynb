{
  "cells": [
    {
      "cell_type": "markdown",
      "metadata": {
        "id": "gdB5r3Lp90VN"
      },
      "source": [
        "# Knapsak counting\n",
        "\n",
        "Given $n$ items with integer sizes\n",
        "\\begin{align}\n",
        "a=(a_1,...,a_n)\\in\\mathbb{N}^n\n",
        "\\end{align}\n",
        "and a knapsack with capacity\n",
        "\\begin{align}\n",
        "b \\in \\mathbb{N}.\n",
        "\\end{align}\n",
        "Estimate the proportion\n",
        "\\begin{align}\n",
        "p \\in [0,1]\n",
        "\\end{align}\n",
        "and the number\n",
        "\\begin{align}\n",
        "k\n",
        "\\end{align}\n",
        "of 0,1-vectors\n",
        "\\begin{align}\n",
        "x \\in {\\{0,1\\}}^n\n",
        "\\end{align}\n",
        "satisfying the inequality\n",
        "\\begin{align}\n",
        "a \\cdot x = \\sum_{i=1}^{n} a_i x_i \\leq b\n",
        "\\end{align}\n",
        "If the vector $a$ gives the sizes of $n$ items to be packed into a knapsack of capacity $b$, the quantity to be estimated can be interpreted as, which we shall refer as \"Knapsac solutions.\"\n",
        "\n",
        "![picture](https://upload.wikimedia.org/wikipedia/commons/thumb/f/fd/Knapsack.svg/1280px-Knapsack.svg.png)\n"
      ]
    },
    {
      "cell_type": "code",
      "execution_count": null,
      "metadata": {
        "id": "uXLM1ylVDgEs"
      },
      "outputs": [],
      "source": [
        "import numpy as np\n",
        "import itertools\n",
        "\n",
        "def test(a,b,x):\n",
        "\n",
        "  #test if a combination of items x, with sizes a fits in a knapsack of capacity b\n",
        "    return np.sum(np.multiply(a,x)) <= b"
      ]
    },
    {
      "cell_type": "markdown",
      "metadata": {
        "id": "g6lLG4YUOm6y"
      },
      "source": [
        "Count and calculate the exact proportion of  “Knapsack solutions.” for the problem in the image."
      ]
    },
    {
      "cell_type": "code",
      "execution_count": null,
      "metadata": {
        "colab": {
          "base_uri": "https://localhost:8080/"
        },
        "id": "VKtcX24oOFLT",
        "outputId": "cd8d357e-74cb-4440-9951-34f51d6d5c38"
      },
      "outputs": [
        {
          "name": "stdout",
          "output_type": "stream",
          "text": [
            "solutions: 23\n",
            "proportion: 0.71875\n"
          ]
        }
      ],
      "source": [
        "a = np.array([1,1,2,4,12]) #sizes\n",
        "b = 15 #capacity\n",
        "k = 0 #solutions\n",
        "p = 0 #proportions\n",
        "\n",
        "tests = list(itertools.product([0,1], repeat=a.size))\n",
        " \n",
        "for i in list(tests):\n",
        "    if test(a,b,np.array(i)):\n",
        "        k+=1\n",
        "\n",
        "p = k/(2**a.size)\n",
        "print('solutions: '+str(k))\n",
        "print('proportion: '+str(p))"
      ]
    },
    {
      "cell_type": "markdown",
      "metadata": {
        "id": "_DEVY0TnPj88"
      },
      "source": [
        "Estimate the proportion and number of “Knapsack solutions.” if the sizes are (1,2,3,4,5,6,7,9,10) and the capacity of the knapsack is 10 using Monte Carlo with 1.000, 10.000 random binary vectors."
      ]
    },
    {
      "cell_type": "code",
      "execution_count": null,
      "metadata": {
        "colab": {
          "base_uri": "https://localhost:8080/"
        },
        "id": "S9SRcbPUQZMS",
        "outputId": "d32b473f-3d60-4e8f-effb-d5993843d6f2"
      },
      "outputs": [
        {
          "name": "stdout",
          "output_type": "stream",
          "text": [
            "solutions: 66\n",
            "proportion: 0.066\n"
          ]
        }
      ],
      "source": [
        "a = np.array([1,2,3,4,5,6,7,9,10])\n",
        "b = 10\n",
        "k = 0\n",
        "p = 0\n",
        "\n",
        "runs = 1000\n",
        "for i in range(1,runs+1):\n",
        "  x = np.random.randint(2, size=a.size)\n",
        "  if test(a,b,x):\n",
        "      k+=1\n",
        "\n",
        "p = k/runs\n",
        "print('solutions: '+str(k))\n",
        "print('proportion: '+str(p))"
      ]
    },
    {
      "cell_type": "code",
      "execution_count": null,
      "metadata": {
        "colab": {
          "base_uri": "https://localhost:8080/"
        },
        "id": "TAMK2NsYSHNr",
        "outputId": "0c10b445-7cd6-4b72-bc77-0969ee2f0364"
      },
      "outputs": [
        {
          "name": "stdout",
          "output_type": "stream",
          "text": [
            "solutions: 783\n",
            "proportion: 0.0783\n"
          ]
        }
      ],
      "source": [
        "a = np.array([1,2,3,4,5,6,7,9,10])\n",
        "b = 10\n",
        "k = 0\n",
        "p = 0\n",
        "\n",
        "runs = 10000\n",
        "for i in range(1,runs+1):\n",
        "  x = np.random.randint(2, size=a.size)\n",
        "  if test(a,b,x):\n",
        "      k+=1\n",
        "\n",
        "p = k/runs\n",
        "print('solutions: '+str(k))\n",
        "print('proportion: '+str(p))"
      ]
    },
    {
      "cell_type": "code",
      "execution_count": null,
      "metadata": {
        "colab": {
          "base_uri": "https://localhost:8080/"
        },
        "id": "5--fxadhS5S9",
        "outputId": "f84041f0-009b-4eea-f608-ec25d88d88ec"
      },
      "outputs": [
        {
          "name": "stdout",
          "output_type": "stream",
          "text": [
            "solutions: 40\n",
            "proportion: 0.078125\n"
          ]
        }
      ],
      "source": [
        "a = np.array([1,2,3,4,5,6,7,9,10])\n",
        "b = 10 #capacity\n",
        "k = 0 #solutions\n",
        "p = 0 #proportions\n",
        "\n",
        "tests = list(itertools.product([0,1], repeat=a.size))\n",
        "\n",
        "for i in list(tests):\n",
        "    if test(a,b,np.array(i)):\n",
        "        k+=1\n",
        "\n",
        "p = k/(2**a.size)\n",
        "print('solutions: '+str(k))\n",
        "print('proportion: '+str(p))"
      ]
    },
    {
      "cell_type": "markdown",
      "metadata": {
        "id": "Cx3A9ZBRTKq8"
      },
      "source": [
        "Estimate the proportion and number of “Knapsack solutions.” if the sizes are (1,2,3,4,…, 49,50) and the capacity of the knapsack are 10, 50, 100, 1275 using Mote Carlo with 10.000, 100.000 and 1.000.000 random binary vectors."
      ]
    },
    {
      "cell_type": "markdown",
      "metadata": {
        "id": "qcPs2qx7VbGb"
      },
      "source": [
        "##Capacity 10"
      ]
    },
    {
      "cell_type": "code",
      "execution_count": null,
      "metadata": {
        "colab": {
          "base_uri": "https://localhost:8080/"
        },
        "id": "QSiBcnS0TKdC",
        "outputId": "74412339-c77c-4048-8994-36a06df6b865"
      },
      "outputs": [
        {
          "name": "stdout",
          "output_type": "stream",
          "text": [
            "# of solutions: 0\n",
            "Proportion: 0.0\n",
            "Total of runs: 10000\n"
          ]
        }
      ],
      "source": [
        "a = list(range(1,51))\n",
        "a = np.array(a)\n",
        "b = 10\n",
        "k = 0\n",
        "p = 0\n",
        "\n",
        "runs = 10000\n",
        "for i in range(1,runs+1):\n",
        "  x = np.random.randint(2, size=a.size)\n",
        "  if test(a,b,x):\n",
        "      k+=1\n",
        "\n",
        "p = k/runs\n",
        "print('# of solutions: '+str(k))\n",
        "print('Proportion: '+str(p))\n",
        "print('Total of runs: ' + str(runs))"
      ]
    },
    {
      "cell_type": "code",
      "execution_count": null,
      "metadata": {
        "colab": {
          "base_uri": "https://localhost:8080/"
        },
        "id": "MDIbcKNHUCTK",
        "outputId": "b2a34c44-e721-4f6e-d3e2-1e6d929e1fe2"
      },
      "outputs": [
        {
          "name": "stdout",
          "output_type": "stream",
          "text": [
            "# of solutions: 0\n",
            "Proportion: 0.0\n",
            "Total of runs: 100000\n"
          ]
        }
      ],
      "source": [
        "a = list(range(1,51))\n",
        "a = np.array(a)\n",
        "b = 10\n",
        "k = 0\n",
        "p = 0\n",
        "\n",
        "runs = 100000\n",
        "for i in range(1,runs+1):\n",
        "  x = np.random.randint(2, size=a.size)\n",
        "  if test(a,b,x):\n",
        "      k+=1\n",
        "\n",
        "p = k/runs\n",
        "print('# of solutions: '+str(k))\n",
        "print('Proportion: '+str(p))\n",
        "print('Total of runs: ' + str(runs))"
      ]
    },
    {
      "cell_type": "code",
      "execution_count": null,
      "metadata": {
        "colab": {
          "base_uri": "https://localhost:8080/"
        },
        "id": "lzpRxTSOUIQY",
        "outputId": "e42e1997-4634-4f53-eea2-be6ab3d620e7"
      },
      "outputs": [
        {
          "name": "stdout",
          "output_type": "stream",
          "text": [
            "# of solutions: 0\n",
            "Proportion: 0.0\n",
            "Total of runs: 1000000\n"
          ]
        }
      ],
      "source": [
        "a = list(range(1,51))\n",
        "a = np.array(a)\n",
        "b = 10\n",
        "k = 0\n",
        "p = 0\n",
        "\n",
        "runs = 1000000\n",
        "for i in range(1,runs+1):\n",
        "  x = np.random.randint(2, size=a.size)\n",
        "  if test(a,b,x):\n",
        "      k+=1\n",
        "\n",
        "p = k/runs\n",
        "print('# of solutions: '+str(k))\n",
        "print('Proportion: '+str(p))\n",
        "print('Total of runs: ' + str(runs))"
      ]
    },
    {
      "cell_type": "markdown",
      "metadata": {
        "id": "CJq5gZBeVuvp"
      },
      "source": [
        "##Capacity: 50"
      ]
    },
    {
      "cell_type": "code",
      "execution_count": null,
      "metadata": {
        "colab": {
          "base_uri": "https://localhost:8080/"
        },
        "id": "TMqccx3JUPT8",
        "outputId": "b7d42538-6b91-4bb3-b0b8-ab3079596ffc"
      },
      "outputs": [
        {
          "name": "stdout",
          "output_type": "stream",
          "text": [
            "# of solutions: 0\n",
            "Proportion: 0.0\n",
            "Total of runs: 10000\n"
          ]
        }
      ],
      "source": [
        "a = list(range(1,51))\n",
        "a = np.array(a)\n",
        "b = 50\n",
        "k = 0\n",
        "p = 0\n",
        "\n",
        "runs = 10000\n",
        "for i in range(1,runs+1):\n",
        "  x = np.random.randint(2, size=a.size)\n",
        "  if test(a,b,x):\n",
        "      k+=1\n",
        "\n",
        "p = k/runs\n",
        "print('# of solutions: '+str(k))\n",
        "print('Proportion: '+str(p))\n",
        "print('Total of runs: ' + str(runs))"
      ]
    },
    {
      "cell_type": "code",
      "execution_count": null,
      "metadata": {
        "colab": {
          "base_uri": "https://localhost:8080/"
        },
        "id": "en2JwZtKUTLy",
        "outputId": "ab3a1c2b-1a39-4c89-ae75-9a6cff0925d5"
      },
      "outputs": [
        {
          "name": "stdout",
          "output_type": "stream",
          "text": [
            "# of solutions: 0\n",
            "Proportion: 0.0\n",
            "Total of runs: 100000\n"
          ]
        }
      ],
      "source": [
        "a = list(range(1,51))\n",
        "a = np.array(a)\n",
        "b = 50\n",
        "k = 0\n",
        "p = 0\n",
        "\n",
        "runs = 100000\n",
        "for i in range(1,runs+1):\n",
        "  x = np.random.randint(2, size=a.size)\n",
        "  if test(a,b,x):\n",
        "      k+=1\n",
        "\n",
        "p = k/runs\n",
        "print('# of solutions: '+str(k))\n",
        "print('Proportion: '+str(p))\n",
        "print('Total of runs: ' + str(runs))"
      ]
    },
    {
      "cell_type": "code",
      "execution_count": null,
      "metadata": {
        "colab": {
          "base_uri": "https://localhost:8080/"
        },
        "id": "7laajCnlUVFC",
        "outputId": "cbffdb6a-6a52-45b9-b72a-603e5800802f"
      },
      "outputs": [
        {
          "name": "stdout",
          "output_type": "stream",
          "text": [
            "# of solutions: 0\n",
            "Proportion: 0.0\n",
            "Total of runs: 1000000\n"
          ]
        }
      ],
      "source": [
        "a = list(range(1,51))\n",
        "a = np.array(a)\n",
        "b = 50\n",
        "k = 0\n",
        "p = 0\n",
        "\n",
        "runs = 1000000\n",
        "for i in range(1,runs+1):\n",
        "  x = np.random.randint(2, size=a.size)\n",
        "  if test(a,b,x):\n",
        "      k+=1\n",
        "\n",
        "p = k/runs\n",
        "print('# of solutions: '+str(k))\n",
        "print('Proportion: '+str(p))\n",
        "print('Total of runs: ' + str(runs))"
      ]
    },
    {
      "cell_type": "markdown",
      "metadata": {
        "id": "-q2c6vw4VxYM"
      },
      "source": [
        "##Capacity: 100"
      ]
    },
    {
      "cell_type": "code",
      "execution_count": null,
      "metadata": {
        "colab": {
          "base_uri": "https://localhost:8080/"
        },
        "id": "2dCopbBPUlt6",
        "outputId": "25a94f60-df3c-4770-95e3-8b41f84dc57f"
      },
      "outputs": [
        {
          "name": "stdout",
          "output_type": "stream",
          "text": [
            "# of solutions: 0\n",
            "Proportion: 0.0\n",
            "Total of runs: 10000\n"
          ]
        }
      ],
      "source": [
        "a = list(range(1,51))\n",
        "a = np.array(a)\n",
        "b = 100\n",
        "k = 0\n",
        "p = 0\n",
        "\n",
        "runs = 10000\n",
        "for i in range(1,runs+1):\n",
        "  x = np.random.randint(2, size=a.size)\n",
        "  if test(a,b,x):\n",
        "      k+=1\n",
        "\n",
        "p = k/runs\n",
        "print('# of solutions: '+str(k))\n",
        "print('Proportion: '+str(p))\n",
        "print('Total of runs: ' + str(runs))"
      ]
    },
    {
      "cell_type": "code",
      "execution_count": null,
      "metadata": {
        "colab": {
          "base_uri": "https://localhost:8080/"
        },
        "id": "0OK-mD5nV1Ep",
        "outputId": "b838c3ea-1642-4ee6-ae64-d7f1fb94a472"
      },
      "outputs": [
        {
          "name": "stdout",
          "output_type": "stream",
          "text": [
            "# of solutions: 0\n",
            "Proportion: 0.0\n",
            "Total of runs: 100000\n"
          ]
        }
      ],
      "source": [
        "a = list(range(1,51))\n",
        "a = np.array(a)\n",
        "b = 100\n",
        "k = 0\n",
        "p = 0\n",
        "\n",
        "runs = 100000\n",
        "for i in range(1,runs+1):\n",
        "  x = np.random.randint(2, size=a.size)\n",
        "  if test(a,b,x):\n",
        "      k+=1\n",
        "\n",
        "p = k/runs\n",
        "print('# of solutions: '+str(k))\n",
        "print('Proportion: '+str(p))\n",
        "print('Total of runs: ' + str(runs))"
      ]
    },
    {
      "cell_type": "code",
      "execution_count": null,
      "metadata": {
        "colab": {
          "base_uri": "https://localhost:8080/"
        },
        "id": "j-Q8avBFV5fj",
        "outputId": "ae406ccb-2c60-40c1-9249-b58509b819dc"
      },
      "outputs": [
        {
          "name": "stdout",
          "output_type": "stream",
          "text": [
            "# of solutions: 0\n",
            "Proportion: 0.0\n",
            "Total of runs: 1000000\n"
          ]
        }
      ],
      "source": [
        "a = list(range(1,51))\n",
        "a = np.array(a)\n",
        "b = 100\n",
        "k = 0\n",
        "p = 0\n",
        "\n",
        "runs = 1000000\n",
        "for i in range(1,runs+1):\n",
        "  x = np.random.randint(2, size=a.size)\n",
        "  if test(a,b,x):\n",
        "      k+=1\n",
        "\n",
        "p = k/runs\n",
        "print('# of solutions: '+str(k))\n",
        "print('Proportion: '+str(p))\n",
        "print('Total of runs: ' + str(runs))"
      ]
    },
    {
      "cell_type": "markdown",
      "metadata": {
        "id": "FEY-NpjCV-u2"
      },
      "source": [
        "##Capacity: 1275"
      ]
    },
    {
      "cell_type": "code",
      "execution_count": null,
      "metadata": {
        "colab": {
          "base_uri": "https://localhost:8080/"
        },
        "id": "6cLrd6-VWZfV",
        "outputId": "16999550-03c8-4044-b438-58d3398953ef"
      },
      "outputs": [
        {
          "name": "stdout",
          "output_type": "stream",
          "text": [
            "# of solutions: 10000\n",
            "Proportion: 1.0\n",
            "Total of runs: 10000\n"
          ]
        }
      ],
      "source": [
        "a = list(range(1,51))\n",
        "a = np.array(a)\n",
        "b = 1275\n",
        "k = 0\n",
        "p = 0\n",
        "\n",
        "runs = 10000\n",
        "for i in range(1,runs+1):\n",
        "  x = np.random.randint(2, size=a.size)\n",
        "  if test(a,b,x):\n",
        "      k+=1\n",
        "\n",
        "p = k/runs\n",
        "print('# of solutions: '+str(k))\n",
        "print('Proportion: '+str(p))\n",
        "print('Total of runs: ' + str(runs))"
      ]
    },
    {
      "cell_type": "code",
      "execution_count": null,
      "metadata": {
        "colab": {
          "base_uri": "https://localhost:8080/"
        },
        "id": "gEvnMo7_W7zv",
        "outputId": "6518747f-7f1f-4dcb-8887-e14633156d9b"
      },
      "outputs": [
        {
          "name": "stdout",
          "output_type": "stream",
          "text": [
            "# solutions: 100000\n",
            "proportion: 1.0\n",
            "Total of runs: 100000\n"
          ]
        }
      ],
      "source": [
        "a = list(range(1,51))\n",
        "a = np.array(a)\n",
        "b = 1275\n",
        "k = 0\n",
        "p = 0\n",
        "\n",
        "runs = 100000\n",
        "for i in range(1,runs+1):\n",
        "  x = np.random.randint(2, size=a.size)\n",
        "  if test(a,b,x):\n",
        "      k+=1\n",
        "\n",
        "p = k/runs\n",
        "print('# of solutions: '+str(k))\n",
        "print('Proportion: '+str(p))\n",
        "print('Total of runs: ' + str(runs))"
      ]
    },
    {
      "cell_type": "code",
      "execution_count": null,
      "metadata": {
        "colab": {
          "base_uri": "https://localhost:8080/"
        },
        "id": "I1Yhe45lW9If",
        "outputId": "08a15a7c-4ae8-4fca-efea-f6f961dec07d"
      },
      "outputs": [
        {
          "name": "stdout",
          "output_type": "stream",
          "text": [
            "# of solutions: 1000000\n",
            "Proportion: 1.0\n",
            "Total of runs: 1000000\n"
          ]
        }
      ],
      "source": [
        "a = list(range(1,51))\n",
        "a = np.array(a)\n",
        "b = 1275\n",
        "k = 0\n",
        "p = 0\n",
        "\n",
        "runs = 1000000\n",
        "for i in range(1,runs+1):\n",
        "  x = np.random.randint(2, size=a.size)\n",
        "  if test(a,b,x):\n",
        "      k+=1\n",
        "\n",
        "p = k/runs\n",
        "print('# of solutions: '+str(k))\n",
        "print('Proportion: '+str(p))\n",
        "print('Total of runs: ' + str(runs))"
      ]
    }
  ],
  "metadata": {
    "colab": {
      "collapsed_sections": [],
      "name": "group3KnapsackMonteCarlo.ipynb",
      "provenance": []
    },
    "kernelspec": {
      "display_name": "Python 3",
      "name": "python3"
    },
    "language_info": {
      "name": "python"
    }
  },
  "nbformat": 4,
  "nbformat_minor": 0
}