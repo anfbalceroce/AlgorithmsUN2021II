{
  "cells": [
    {
      "cell_type": "markdown",
      "metadata": {
        "id": "gdB5r3Lp90VN"
      },
      "source": [
        "# Knapsak counting\n",
        "\n",
        "Given $n$ items with integer sizes\n",
        "\\begin{align}\n",
        "a=(a_1,...,a_n)\\in\\mathbb{N}^n\n",
        "\\end{align}\n",
        "and a knapsack with capacity\n",
        "\\begin{align}\n",
        "b \\in \\mathbb{N}.\n",
        "\\end{align}\n",
        "Estimate the proportion\n",
        "\\begin{align}\n",
        "p \\in [0,1]\n",
        "\\end{align}\n",
        "and the number\n",
        "\\begin{align}\n",
        "k\n",
        "\\end{align}\n",
        "of 0,1-vectors\n",
        "\\begin{align}\n",
        "x \\in {\\{0,1\\}}^n\n",
        "\\end{align}\n",
        "satisfying the inequality\n",
        "\\begin{align}\n",
        "a \\cdot x = \\sum_{i=1}^{n} a_i x_i \\leq b\n",
        "\\end{align}\n",
        "If the vector $a$ gives the sizes of $n$ items to be packed into a knapsack of capacity $b$, the quantity to be estimated can be interpreted as, which we shall refer as \"Knapsack solutions\".\n",
        "\n",
        "![picture](https://upload.wikimedia.org/wikipedia/commons/thumb/f/fd/Knapsack.svg/1280px-Knapsack.svg.png)\n"
      ]
    },
    {
      "cell_type": "code",
      "execution_count": 1,
      "metadata": {
        "id": "uXLM1ylVDgEs"
      },
      "outputs": [],
      "source": [
        "import numpy as np\n",
        "import itertools\n",
        "\n",
        "def test(a,b,x):\n",
        "\n",
        "  #test if a combination of items x, with sizes a fits in a knapsack of capacity b\n",
        "    return np.sum(np.multiply(a,x)) <= b"
      ]
    },
    {
      "cell_type": "markdown",
      "metadata": {
        "id": "g6lLG4YUOm6y"
      },
      "source": [
        "Count and calculate the exact proportion of  “Knapsack solutions” for the problem in the image."
      ]
    },
    {
      "cell_type": "code",
      "execution_count": 2,
      "metadata": {
        "colab": {
          "base_uri": "https://localhost:8080/"
        },
        "id": "VKtcX24oOFLT",
        "outputId": "8df6b4ec-7ffd-472b-daef-de81551b09db"
      },
      "outputs": [
        {
          "output_type": "stream",
          "name": "stdout",
          "text": [
            "# of solutions: 23\n",
            "Proportion: 0.71875\n",
            "Total combinations: 32\n"
          ]
        }
      ],
      "source": [
        "a = np.array([1,1,2,4,12]) #sizes\n",
        "b = 15 #capacity\n",
        "k = 0 #solutions\n",
        "p = 0 #proportion\n",
        "\n",
        "tests = list(itertools.product([0,1], repeat=a.size))\n",
        " \n",
        "for i in list(tests):\n",
        "    if test(a,b,np.array(i)):\n",
        "        k+=1\n",
        "\n",
        "p = k/(2**a.size)\n",
        "print('# of solutions: '+str(k))\n",
        "print('Proportion: '+str(p))\n",
        "print('Total combinations: '+str(2**a.size))"
      ]
    },
    {
      "cell_type": "markdown",
      "metadata": {
        "id": "_DEVY0TnPj88"
      },
      "source": [
        "Estimate the proportion and number of “Knapsack solutions.” if the sizes are (1,2,3,4,5,6,7,9,10) and the capacity of the knapsack is 10 using Monte Carlo with 1.000, 10.000 random binary vectors."
      ]
    },
    {
      "cell_type": "code",
      "execution_count": 3,
      "metadata": {
        "colab": {
          "base_uri": "https://localhost:8080/"
        },
        "id": "S9SRcbPUQZMS",
        "outputId": "a8350571-db37-4c94-938a-7675ce961682"
      },
      "outputs": [
        {
          "output_type": "stream",
          "name": "stdout",
          "text": [
            "# of solutions: 83\n",
            "Proportion: 0.083\n",
            "Tested combinations: 1000\n"
          ]
        }
      ],
      "source": [
        "a = np.array([1,2,3,4,5,6,7,9,10])\n",
        "b = 10\n",
        "k = 0\n",
        "p = 0\n",
        "\n",
        "runs = 1000\n",
        "for i in range(1,runs+1):\n",
        "  x = np.random.randint(2, size=a.size)\n",
        "  if test(a,b,x):\n",
        "      k+=1\n",
        "\n",
        "p = k/runs\n",
        "print('# of solutions: '+str(k))\n",
        "print('Proportion: '+str(p))\n",
        "print('Tested combinations: ' + str(runs))"
      ]
    },
    {
      "cell_type": "code",
      "execution_count": 4,
      "metadata": {
        "colab": {
          "base_uri": "https://localhost:8080/"
        },
        "id": "TAMK2NsYSHNr",
        "outputId": "010322c0-22f9-445c-9db1-0344c8810d4e"
      },
      "outputs": [
        {
          "output_type": "stream",
          "name": "stdout",
          "text": [
            "# of solutions: 779\n",
            "Proportion: 0.0779\n",
            "Tested combinations: 10000\n"
          ]
        }
      ],
      "source": [
        "a = np.array([1,2,3,4,5,6,7,9,10])\n",
        "b = 10\n",
        "k = 0\n",
        "p = 0\n",
        "\n",
        "runs = 10000\n",
        "for i in range(1,runs+1):\n",
        "  x = np.random.randint(2, size=a.size)\n",
        "  if test(a,b,x):\n",
        "      k+=1\n",
        "\n",
        "p = k/runs\n",
        "print('# of solutions: '+str(k))\n",
        "print('Proportion: '+str(p))\n",
        "print('Tested combinations: ' + str(runs))"
      ]
    },
    {
      "cell_type": "markdown",
      "metadata": {
        "id": "Cx3A9ZBRTKq8"
      },
      "source": [
        "Estimate the proportion and number of “Knapsack solutions.” if the sizes are (1,2,3,4,…, 49,50) and the capacity of the knapsack are 10, 50, 100, 1275 using Mote Carlo with 10.000, 100.000 and 1.000.000 random binary vectors."
      ]
    },
    {
      "cell_type": "markdown",
      "metadata": {
        "id": "qcPs2qx7VbGb"
      },
      "source": [
        "##Capacity 10"
      ]
    },
    {
      "cell_type": "code",
      "execution_count": 5,
      "metadata": {
        "colab": {
          "base_uri": "https://localhost:8080/"
        },
        "id": "QSiBcnS0TKdC",
        "outputId": "c633cc60-6baa-4032-813e-1cf6373e7f2b"
      },
      "outputs": [
        {
          "output_type": "stream",
          "name": "stdout",
          "text": [
            "# of solutions: 0\n",
            "Proportion: 0.0\n",
            "Tested combinations: 10000\n"
          ]
        }
      ],
      "source": [
        "a = list(range(1,51))\n",
        "a = np.array(a)\n",
        "b = 10\n",
        "k = 0\n",
        "p = 0\n",
        "\n",
        "runs = 10000\n",
        "for i in range(1,runs+1):\n",
        "  x = np.random.randint(2, size=a.size)\n",
        "  if test(a,b,x):\n",
        "      k+=1\n",
        "\n",
        "p = k/runs\n",
        "print('# of solutions: '+str(k))\n",
        "print('Proportion: '+str(p))\n",
        "print('Tested combinations: ' + str(runs))"
      ]
    },
    {
      "cell_type": "code",
      "execution_count": 6,
      "metadata": {
        "colab": {
          "base_uri": "https://localhost:8080/"
        },
        "id": "MDIbcKNHUCTK",
        "outputId": "1ed069eb-a5c2-4bbf-c1cd-0def162371da"
      },
      "outputs": [
        {
          "output_type": "stream",
          "name": "stdout",
          "text": [
            "# of solutions: 0\n",
            "Proportion: 0.0\n",
            "Tested combinations: 100000\n"
          ]
        }
      ],
      "source": [
        "a = list(range(1,51))\n",
        "a = np.array(a)\n",
        "b = 10\n",
        "k = 0\n",
        "p = 0\n",
        "\n",
        "runs = 100000\n",
        "for i in range(1,runs+1):\n",
        "  x = np.random.randint(2, size=a.size)\n",
        "  if test(a,b,x):\n",
        "      k+=1\n",
        "\n",
        "p = k/runs\n",
        "print('# of solutions: '+str(k))\n",
        "print('Proportion: '+str(p))\n",
        "print('Tested combinations: ' + str(runs))"
      ]
    },
    {
      "cell_type": "code",
      "execution_count": 7,
      "metadata": {
        "colab": {
          "base_uri": "https://localhost:8080/"
        },
        "id": "lzpRxTSOUIQY",
        "outputId": "313312b6-b718-4715-a49e-64e1b30d8473"
      },
      "outputs": [
        {
          "output_type": "stream",
          "name": "stdout",
          "text": [
            "# of solutions: 0\n",
            "Proportion: 0.0\n",
            "Tested combinations: 1000000\n"
          ]
        }
      ],
      "source": [
        "a = list(range(1,51))\n",
        "a = np.array(a)\n",
        "b = 10\n",
        "k = 0\n",
        "p = 0\n",
        "\n",
        "runs = 1000000\n",
        "for i in range(1,runs+1):\n",
        "  x = np.random.randint(2, size=a.size)\n",
        "  if test(a,b,x):\n",
        "      k+=1\n",
        "\n",
        "p = k/runs\n",
        "print('# of solutions: '+str(k))\n",
        "print('Proportion: '+str(p))\n",
        "print('Tested combinations: ' + str(runs))"
      ]
    },
    {
      "cell_type": "markdown",
      "metadata": {
        "id": "CJq5gZBeVuvp"
      },
      "source": [
        "##Capacity: 50"
      ]
    },
    {
      "cell_type": "code",
      "execution_count": 8,
      "metadata": {
        "colab": {
          "base_uri": "https://localhost:8080/"
        },
        "id": "TMqccx3JUPT8",
        "outputId": "a2ff889d-e966-4596-9ced-b51abeed8c7d"
      },
      "outputs": [
        {
          "output_type": "stream",
          "name": "stdout",
          "text": [
            "# of solutions: 0\n",
            "Proportion: 0.0\n",
            "Tested combinations: 10000\n"
          ]
        }
      ],
      "source": [
        "a = list(range(1,51))\n",
        "a = np.array(a)\n",
        "b = 50\n",
        "k = 0\n",
        "p = 0\n",
        "\n",
        "runs = 10000\n",
        "for i in range(1,runs+1):\n",
        "  x = np.random.randint(2, size=a.size)\n",
        "  if test(a,b,x):\n",
        "      k+=1\n",
        "\n",
        "p = k/runs\n",
        "print('# of solutions: '+str(k))\n",
        "print('Proportion: '+str(p))\n",
        "print('Tested combinations: ' + str(runs))"
      ]
    },
    {
      "cell_type": "code",
      "execution_count": 9,
      "metadata": {
        "colab": {
          "base_uri": "https://localhost:8080/"
        },
        "id": "en2JwZtKUTLy",
        "outputId": "b5447956-a55d-4302-8c5b-2f184eb035f2"
      },
      "outputs": [
        {
          "output_type": "stream",
          "name": "stdout",
          "text": [
            "# of solutions: 0\n",
            "Proportion: 0.0\n",
            "Tested combinations: 100000\n"
          ]
        }
      ],
      "source": [
        "a = list(range(1,51))\n",
        "a = np.array(a)\n",
        "b = 50\n",
        "k = 0\n",
        "p = 0\n",
        "\n",
        "runs = 100000\n",
        "for i in range(1,runs+1):\n",
        "  x = np.random.randint(2, size=a.size)\n",
        "  if test(a,b,x):\n",
        "      k+=1\n",
        "\n",
        "p = k/runs\n",
        "print('# of solutions: '+str(k))\n",
        "print('Proportion: '+str(p))\n",
        "print('Tested combinations: ' + str(runs))"
      ]
    },
    {
      "cell_type": "code",
      "execution_count": 10,
      "metadata": {
        "colab": {
          "base_uri": "https://localhost:8080/"
        },
        "id": "7laajCnlUVFC",
        "outputId": "15cae983-311e-48c4-b10d-f38c22e5d6aa"
      },
      "outputs": [
        {
          "output_type": "stream",
          "name": "stdout",
          "text": [
            "# of solutions: 0\n",
            "Proportion: 0.0\n",
            "Tested combinations: 1000000\n"
          ]
        }
      ],
      "source": [
        "a = list(range(1,51))\n",
        "a = np.array(a)\n",
        "b = 50\n",
        "k = 0\n",
        "p = 0\n",
        "\n",
        "runs = 1000000\n",
        "for i in range(1,runs+1):\n",
        "  x = np.random.randint(2, size=a.size)\n",
        "  if test(a,b,x):\n",
        "      k+=1\n",
        "\n",
        "p = k/runs\n",
        "print('# of solutions: '+str(k))\n",
        "print('Proportion: '+str(p))\n",
        "print('Tested combinations: ' + str(runs))"
      ]
    },
    {
      "cell_type": "markdown",
      "metadata": {
        "id": "-q2c6vw4VxYM"
      },
      "source": [
        "##Capacity: 100"
      ]
    },
    {
      "cell_type": "code",
      "execution_count": 11,
      "metadata": {
        "colab": {
          "base_uri": "https://localhost:8080/"
        },
        "id": "2dCopbBPUlt6",
        "outputId": "ebfa2232-1ada-46c4-d947-395c6558ea87"
      },
      "outputs": [
        {
          "output_type": "stream",
          "name": "stdout",
          "text": [
            "# of solutions: 0\n",
            "Proportion: 0.0\n",
            "Tested combinations: 10000\n"
          ]
        }
      ],
      "source": [
        "a = list(range(1,51))\n",
        "a = np.array(a)\n",
        "b = 100\n",
        "k = 0\n",
        "p = 0\n",
        "\n",
        "runs = 10000\n",
        "for i in range(1,runs+1):\n",
        "  x = np.random.randint(2, size=a.size)\n",
        "  if test(a,b,x):\n",
        "      k+=1\n",
        "\n",
        "p = k/runs\n",
        "print('# of solutions: '+str(k))\n",
        "print('Proportion: '+str(p))\n",
        "print('Tested combinations: ' + str(runs))"
      ]
    },
    {
      "cell_type": "code",
      "execution_count": 12,
      "metadata": {
        "colab": {
          "base_uri": "https://localhost:8080/"
        },
        "id": "0OK-mD5nV1Ep",
        "outputId": "c9459c78-02f8-4fc5-c877-449e7e91b03d"
      },
      "outputs": [
        {
          "output_type": "stream",
          "name": "stdout",
          "text": [
            "# of solutions: 0\n",
            "Proportion: 0.0\n",
            "Tested combinations: 100000\n"
          ]
        }
      ],
      "source": [
        "a = list(range(1,51))\n",
        "a = np.array(a)\n",
        "b = 100\n",
        "k = 0\n",
        "p = 0\n",
        "\n",
        "runs = 100000\n",
        "for i in range(1,runs+1):\n",
        "  x = np.random.randint(2, size=a.size)\n",
        "  if test(a,b,x):\n",
        "      k+=1\n",
        "\n",
        "p = k/runs\n",
        "print('# of solutions: '+str(k))\n",
        "print('Proportion: '+str(p))\n",
        "print('Tested combinations: ' + str(runs))"
      ]
    },
    {
      "cell_type": "code",
      "execution_count": 13,
      "metadata": {
        "colab": {
          "base_uri": "https://localhost:8080/"
        },
        "id": "j-Q8avBFV5fj",
        "outputId": "ef6e7d2e-4a77-4cbb-c740-fd216351f00f"
      },
      "outputs": [
        {
          "output_type": "stream",
          "name": "stdout",
          "text": [
            "# of solutions: 0\n",
            "Proportion: 0.0\n",
            "Tested combinations: 1000000\n"
          ]
        }
      ],
      "source": [
        "a = list(range(1,51))\n",
        "a = np.array(a)\n",
        "b = 100\n",
        "k = 0\n",
        "p = 0\n",
        "\n",
        "runs = 1000000\n",
        "for i in range(1,runs+1):\n",
        "  x = np.random.randint(2, size=a.size)\n",
        "  if test(a,b,x):\n",
        "      k+=1\n",
        "\n",
        "p = k/runs\n",
        "print('# of solutions: '+str(k))\n",
        "print('Proportion: '+str(p))\n",
        "print('Tested combinations: ' + str(runs))"
      ]
    },
    {
      "cell_type": "markdown",
      "metadata": {
        "id": "FEY-NpjCV-u2"
      },
      "source": [
        "##Capacity: 1275"
      ]
    },
    {
      "cell_type": "code",
      "execution_count": 14,
      "metadata": {
        "colab": {
          "base_uri": "https://localhost:8080/"
        },
        "id": "6cLrd6-VWZfV",
        "outputId": "e4d60a01-5acb-4ca4-fd54-e032cec4eb39"
      },
      "outputs": [
        {
          "output_type": "stream",
          "name": "stdout",
          "text": [
            "# of solutions: 10000\n",
            "Proportion: 1.0\n",
            "Tested combinations: 10000\n"
          ]
        }
      ],
      "source": [
        "a = list(range(1,51))\n",
        "a = np.array(a)\n",
        "b = 1275\n",
        "k = 0\n",
        "p = 0\n",
        "\n",
        "runs = 10000\n",
        "for i in range(1,runs+1):\n",
        "  x = np.random.randint(2, size=a.size)\n",
        "  if test(a,b,x):\n",
        "      k+=1\n",
        "\n",
        "p = k/runs\n",
        "print('# of solutions: '+str(k))\n",
        "print('Proportion: '+str(p))\n",
        "print('Tested combinations: ' + str(runs))"
      ]
    },
    {
      "cell_type": "code",
      "execution_count": 15,
      "metadata": {
        "colab": {
          "base_uri": "https://localhost:8080/"
        },
        "id": "gEvnMo7_W7zv",
        "outputId": "ed36eb88-2969-46ab-f22d-93c835062a52"
      },
      "outputs": [
        {
          "output_type": "stream",
          "name": "stdout",
          "text": [
            "# of solutions: 100000\n",
            "Proportion: 1.0\n",
            "Tested combinations: 100000\n"
          ]
        }
      ],
      "source": [
        "a = list(range(1,51))\n",
        "a = np.array(a)\n",
        "b = 1275\n",
        "k = 0\n",
        "p = 0\n",
        "\n",
        "runs = 100000\n",
        "for i in range(1,runs+1):\n",
        "  x = np.random.randint(2, size=a.size)\n",
        "  if test(a,b,x):\n",
        "      k+=1\n",
        "\n",
        "p = k/runs\n",
        "print('# of solutions: '+str(k))\n",
        "print('Proportion: '+str(p))\n",
        "print('Tested combinations: ' + str(runs))"
      ]
    },
    {
      "cell_type": "code",
      "execution_count": 16,
      "metadata": {
        "colab": {
          "base_uri": "https://localhost:8080/"
        },
        "id": "I1Yhe45lW9If",
        "outputId": "a35a50d1-1f6d-48be-e514-1f707bec8310"
      },
      "outputs": [
        {
          "output_type": "stream",
          "name": "stdout",
          "text": [
            "# of solutions: 1000000\n",
            "Proportion: 1.0\n",
            "Tested combinations: 1000000\n"
          ]
        }
      ],
      "source": [
        "a = list(range(1,51))\n",
        "a = np.array(a)\n",
        "b = 1275\n",
        "k = 0\n",
        "p = 0\n",
        "\n",
        "runs = 1000000\n",
        "for i in range(1,runs+1):\n",
        "  x = np.random.randint(2, size=a.size)\n",
        "  if test(a,b,x):\n",
        "      k+=1\n",
        "\n",
        "p = k/runs\n",
        "print('# of solutions: '+str(k))\n",
        "print('Proportion: '+str(p))\n",
        "print('Tested combinations: ' + str(runs))"
      ]
    }
  ],
  "metadata": {
    "colab": {
      "collapsed_sections": [],
      "name": "group3KnapsackMonteCarlo.ipynb",
      "provenance": []
    },
    "kernelspec": {
      "display_name": "Python 3",
      "name": "python3"
    },
    "language_info": {
      "name": "python"
    }
  },
  "nbformat": 4,
  "nbformat_minor": 0
}
